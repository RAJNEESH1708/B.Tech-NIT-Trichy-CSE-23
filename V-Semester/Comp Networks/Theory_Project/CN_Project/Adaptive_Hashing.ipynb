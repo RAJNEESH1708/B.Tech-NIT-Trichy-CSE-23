{
 "cells": [
  {
   "cell_type": "markdown",
   "id": "e3ba7356",
   "metadata": {},
   "source": [
    "# Adaptive Hashing for IP Address Lookup in Computer Networks"
   ]
  },
  {
   "cell_type": "code",
   "execution_count": 73,
   "id": "c5dbb061",
   "metadata": {},
   "outputs": [],
   "source": [
    "import math\n",
    "import csv\n",
    "import operator as op\n",
    "from functools import reduce\n",
    "import random\n",
    "import numpy "
   ]
  },
  {
   "cell_type": "code",
   "execution_count": 74,
   "id": "2c28abe6",
   "metadata": {},
   "outputs": [],
   "source": [
    "def ip_to_binary(ip):\n",
    "    return (''.join([bin(int(x)+256)[3:] for x in ip.split('.')]))"
   ]
  },
  {
   "cell_type": "code",
   "execution_count": 75,
   "id": "ff50e311",
   "metadata": {},
   "outputs": [
    {
     "name": "stdout",
     "output_type": "stream",
     "text": [
      "['ï»¿256 Artificially Generated Databases']\n",
      "['83.118.34.209', '205.33.79.234', '132.107.46.66', '245.48.255.135', '152.136.114.185', '78.203.254.86', '59.196.190.243', '188.102.84.13', '230.152.117.234', '223.78.172.103', '42.92.232.27', '254.182.255.234', '90.216.208.156', '149.229.231.18', '10.236.170.97', '224.164.218.98', '118.113.205.38', '3.157.75.69', '250.196.81.50', '56.96.165.60', '174.129.25.212', '217.239.243.68', '191.249.62.54', '96.182.86.211', '252.194.18.7', '171.100.54.13', '199.157.116.231', '54.116.127.99', '61.134.115.233', '233.9.69.51', '203.36.126.249', '103.191.215.92', '28.153.56.136', '56.70.61.36', '5.66.32.53', '0.222.122.241', '103.115.111.154', '120.156.71.255', '182.25.206.21', '94.235.33.231', '151.134.115.45', '234.63.141.140', '51.162.216.88', '219.206.22.232', '5.136.162.45', '67.51.158.182', '6.23.170.165', '106.50.155.182', '103.112.6.96', '189.184.226.128', '97.87.11.55', '219.54.36.191', '46.188.154.0', '124.66.72.55', '225.34.228.155', '187.83.155.99', '83.114.49.59', '219.239.199.242', '123.99.123.148', '26.55.80.216', '199.68.154.142', '246.72.178.61', '103.92.149.77', '23.116.138.248', '38.219.66.14', '225.122.152.170', '135.126.131.253', '99.65.191.232', '202.130.131.91', '162.231.228.144', '190.232.102.95', '222.158.237.177', '167.112.24.13', '147.117.247.43', '77.60.191.19', '220.137.156.5', '129.20.137.40', '183.87.165.159', '126.209.13.27', '156.136.144.198', '220.18.37.205', '199.63.44.203', '204.94.247.178', '98.93.0.41', '131.98.135.58', '141.164.201.16', '118.144.14.41', '89.71.102.94', '113.6.168.244', '104.245.49.151', '43.52.147.99', '254.76.69.216', '191.48.6.47', '62.80.80.87', '86.215.133.222', '121.39.208.138', '213.230.237.43', '230.71.114.108', '221.223.8.153', '182.183.180.92', '195.164.1.31', '219.158.121.15', '16.240.108.232', '184.197.196.151', '4.30.223.18', '67.58.228.146', '117.77.0.41', '121.169.126.235', '84.222.11.115', '205.30.6.118', '210.41.35.1', '253.189.175.97', '29.131.207.159', '9.21.45.11', '62.49.234.175', '172.105.216.250', '17.108.9.5', '246.228.23.118', '179.8.85.93', '176.208.7.117', '50.64.48.122', '197.104.52.161', '81.60.106.250', '131.24.85.102', '253.208.5.109', '76.120.197.119', '2.238.143.78', '204.158.17.226', '220.171.234.127', '17.191.11.133', '157.176.130.241', '200.28.156.112', '43.207.100.189', '76.160.191.22', '250.98.22.66', '162.156.187.19', '214.231.51.153', '157.241.156.100', '26.128.172.218', '138.239.197.101', '90.71.204.135', '75.171.92.73', '17.60.24.23', '57.202.146.139', '38.13.171.227', '180.90.134.190', '201.118.157.218', '248.220.105.250', '135.249.119.88', '230.47.23.12', '54.164.159.99', '94.103.195.230', '252.126.240.117', '148.104.126.240', '168.192.207.33', '16.54.186.223', '20.230.141.146', '65.84.197.125', '192.135.184.201', '2.96.126.61', '66.220.240.119', '228.253.16.159', '90.88.123.70', '90.155.86.77', '242.121.172.219', '121.22.96.62', '157.43.185.200', '52.216.68.14', '156.6.1.187', '85.11.215.92', '112.53.96.24', '200.105.253.95', '77.206.44.125', '110.68.120.176', '62.170.38.16', '226.50.129.61', '207.126.113.230', '53.100.63.15', '186.73.18.186', '6.40.102.248', '153.179.20.244', '3.7.187.12', '200.165.34.202', '63.139.161.175', '215.197.198.125', '251.28.236.198', '103.63.106.219', '78.26.158.205', '36.197.156.100', '166.17.224.138', '212.0.81.38', '65.67.115.156', '12.183.215.36', '241.221.202.119', '162.45.140.96', '135.150.201.96', '80.208.228.17', '250.115.231.130', '4.27.73.163', '138.48.23.135', '62.206.153.160', '22.247.140.148', '161.145.225.236', '28.193.116.182', '241.149.65.83', '176.179.201.122', '1.151.133.77', '46.9.181.93', '42.127.138.43', '116.169.193.189', '175.65.211.19', '19.154.7.57', '20.156.14.196', '225.179.155.143', '165.229.155.160', '234.34.185.7', '249.195.146.72', '160.38.253.137', '168.172.41.175', '117.150.142.183', '216.17.55.75', '129.61.162.127', '40.142.191.169', '229.205.100.219', '78.163.223.255', '230.204.167.75', '6.242.32.224', '131.97.155.156', '241.194.250.187', '160.122.86.144', '54.218.221.139', '70.252.7.242', '88.160.204.29', '192.62.73.47', '118.132.1.25', '115.194.107.167', '19.14.135.118', '115.85.57.76', '85.173.243.213', '90.12.176.154', '47.212.246.159', '95.219.158.136', '193.149.227.31', '82.255.184.201', '32.209.245.101', '193.131.180.164', '240.131.225.126', '75.81.27.72', '38.70.253.145', '33.38.56.66', '38.157.156.95', '104.180.188.10', '16.81.104.185', '22.45.67.71', '174.195.45.207', '39.44.204.187']\n"
     ]
    }
   ],
   "source": [
    "file = open(\"IP_Database/Artificial/AIP256.csv\")\n",
    "csvreader = csv.reader(file)\n",
    "header = next(csvreader)\n",
    "print(header)\n",
    "db = []\n",
    "for row in csvreader:\n",
    "    db.append(row[0])\n",
    "print(db)\n",
    "file.close()"
   ]
  },
  {
   "cell_type": "code",
   "execution_count": 76,
   "id": "29978947",
   "metadata": {},
   "outputs": [],
   "source": [
    "binary_ip = []\n",
    "for ip in db:\n",
    "    ip = ip_to_binary(ip)\n",
    "    binary_ip.append(ip)   \n",
    "# print(binary_ip)"
   ]
  },
  {
   "cell_type": "code",
   "execution_count": 77,
   "id": "62fe09f4",
   "metadata": {},
   "outputs": [
    {
     "name": "stdout",
     "output_type": "stream",
     "text": [
      "256\n",
      "32\n",
      "8\n"
     ]
    }
   ],
   "source": [
    "M = len(binary_ip)\n",
    "n = len(binary_ip[0])\n",
    "m = int(math.log2(M))\n",
    "print(M)\n",
    "print(n)\n",
    "print(m)"
   ]
  },
  {
   "cell_type": "markdown",
   "id": "da6911d4",
   "metadata": {},
   "source": [
    "# Ad Hoc Pivot Hashing"
   ]
  },
  {
   "cell_type": "code",
   "execution_count": 78,
   "id": "05ed64f7",
   "metadata": {},
   "outputs": [],
   "source": [
    "def nCr(n, r):\n",
    "    r = min(r, n-r)\n",
    "    numer = reduce(op.mul, range(n, n-r, -1), 1)\n",
    "    denom = reduce(op.mul, range(1, r+1), 1)\n",
    "    return numer//denom   \n",
    "\n",
    "def round_to_nearest_even(f):\n",
    "    up = math.ceil(f / 2.) * 2\n",
    "    down = math.floor(f / 2.) * 2\n",
    "    if(up-f > f-down):\n",
    "        return down\n",
    "    else:\n",
    "        return up\n",
    "\n",
    "def d_XORing(di,dj):\n",
    "    xi = (M-di)//2\n",
    "    xj = (M-dj)//2\n",
    "    if(xi<xj):\n",
    "        (xi,xj) = (xj,xi)\n",
    "    delta = xi-xj\n",
    "    decimal_xor_d = 0\n",
    "    for k in range(0,xj+1):\n",
    "        prob = (nCr(xi,xj-k)*nCr(M-xi,k))/nCr(M,xj)\n",
    "        decimal_xor_d += (abs(M-2*delta-4*k)*prob)  \n",
    "    even_xor_d =  round_to_nearest_even(decimal_xor_d)\n",
    "    return [decimal_xor_d,even_xor_d]\n",
    "\n",
    "def reduction_on_xor(di,dj):\n",
    "    xor_d = d_XORing(di,dj)[0]\n",
    "    min_d = min(di,dj)\n",
    "    if(min_d==0):\n",
    "        return -1e9\n",
    "    pij = (min_d - xor_d)/min_d\n",
    "    return pij\n",
    "\n",
    "def next_avg_μ(d):\n",
    "    d = sorted(d)\n",
    "    μ_pre = 0\n",
    "    for i in range(0,m):\n",
    "        μ_pre += d[i]        \n",
    "    μ_pre = μ_pre//m\n",
    "    return μ_pre\n",
    "\n",
    "def combined_values(i,j,d):\n",
    "    if(i>=0 and j<len(d)):\n",
    "        return [reduction_on_xor(d[i],d[j]),d_XORing(d[i],d[j])[1],i,j]\n",
    "    return [-2e50,-1,i,j]\n"
   ]
  },
  {
   "cell_type": "code",
   "execution_count": 79,
   "id": "dab9e10c",
   "metadata": {},
   "outputs": [],
   "source": [
    "def adhoc_pivot():\n",
    "    # initial calculation of d-values\n",
    "    d = [0]*n\n",
    "    for row in binary_ip:\n",
    "        for col in range(0,n):\n",
    "            d[col] += int(row[col])\n",
    "    for col in range(0,n):\n",
    "        d[col] = abs(2*d[col]-M)\n",
    "    \n",
    "    while(len(d)>m):\n",
    "        \n",
    "        # Sort intermediate hash values based on d\n",
    "        d = sorted(d)\n",
    "        \n",
    "        # Find μ-pre\n",
    "        μ_pre = next_avg_μ(d)\n",
    "        \n",
    "        # Find pivot point\n",
    "        pivot_position = 0\n",
    "        max_red = -1e9\n",
    "        for i in range(0,len(d)):\n",
    "            for j in range(i+1,len(d)):\n",
    "                per_red = reduction_on_xor(d[i],d[j])\n",
    "                if(per_red > max_red):\n",
    "                    max_red = per_red\n",
    "                    pivot_position = i if d[i] < d[j] else j\n",
    "        \n",
    "        combo1 = combined_values(pivot_position-1,pivot_position+1,d)\n",
    "        combo2 = combined_values(pivot_position-1,pivot_position,d)\n",
    "        combo3 = combined_values(pivot_position,pivot_position+1,d) \n",
    "        \n",
    "        best_pair_pivot = max(combo1,combo2,combo3)\n",
    "        \n",
    "        d_pivot = d[:]\n",
    "        d_pivot.pop(best_pair_pivot[3])\n",
    "        d_pivot.pop(best_pair_pivot[2])\n",
    "        d_pivot.append(best_pair_pivot[1])\n",
    "        \n",
    "        # Find the μ-pivot\n",
    "        μ_pivot = next_avg_μ(d_pivot)\n",
    "        \n",
    "          \n",
    "        # Find the μ-m+1\n",
    "        combo4 = combined_values(m-1,m,d)\n",
    "        combo5 = combined_values(m,m+1,d)\n",
    "        \n",
    "        best_pair = max(combo4,combo5)\n",
    "        \n",
    "        d_m_plus_1 = d[:]\n",
    "        d_m_plus_1.pop(best_pair[3])\n",
    "        d_m_plus_1.pop(best_pair[2])\n",
    "        d_m_plus_1.append(best_pair[1])\n",
    "        \n",
    "        μ_m_plus_1 = next_avg_μ(d_m_plus_1)\n",
    "        \n",
    "        if(μ_m_plus_1 > μ_pre and μ_pivot > μ_pre):\n",
    "            break\n",
    "        elif(μ_m_plus_1 < μ_pivot):\n",
    "            d = d_pivot[:]\n",
    "        else:\n",
    "            d = d_m_plus_1[:]\n",
    "    \n",
    "    # resultant d \n",
    "    return d\n",
    "       "
   ]
  },
  {
   "cell_type": "code",
   "execution_count": 80,
   "id": "f30be138",
   "metadata": {},
   "outputs": [
    {
     "name": "stdout",
     "output_type": "stream",
     "text": [
      "[0.24609375, 3]\n"
     ]
    }
   ],
   "source": [
    "d = adhoc_pivot()\n",
    "binary_hash_keys = []\n",
    "l = len(d)\n",
    "for i in range(0,l):\n",
    "    if(random.randint(0,1)):\n",
    "        one = (M+d[i])//2\n",
    "        zero = M-one\n",
    "        col = [0]*zero + [1]*one\n",
    "        random.shuffle(col)\n",
    "        binary_hash_keys.append(col)\n",
    "    else:\n",
    "        zero = (M+d[i])//2\n",
    "        one = M-zero\n",
    "        col = [0]*zero + [1]*one\n",
    "        random.shuffle(col)\n",
    "        binary_hash_keys.append(col)\n",
    "        \n",
    "binary_hash_keys = numpy.transpose(binary_hash_keys)\n",
    "binary_hash_keys = binary_hash_keys.tolist()\n",
    "hash_keys = []\n",
    "for i in range(len(binary_hash_keys)):\n",
    "    res = int(\"\".join(str(x) for x in binary_hash_keys[i]), 2)\n",
    "    hash_keys.append(res)\n",
    "\n",
    "ip_key = {}\n",
    "for i in range(M):\n",
    "    ip_key[db[i]] = hash_keys[i]\n",
    "\n",
    "ip_hashmap = {}\n",
    "for i in range(M):\n",
    "    ip_hashmap.setdefault(hash_keys[i], [])\n",
    "for i in range(M):    \n",
    "    ip_hashmap[hash_keys[i]].append(db[i])\n",
    "\n",
    "\n",
    "def adhoc_pivot_search_ip(ip):\n",
    "    collisions = 0\n",
    "    if(ip_key[ip]):\n",
    "        for curr_ip in ip_hashmap[ip_key[ip]]:\n",
    "            if(curr_ip==ip):\n",
    "                return [True,collisions]\n",
    "            else:\n",
    "                collisions += 1\n",
    "    return [False,0]\n",
    "\n",
    "hashed_values = [0]*M\n",
    "asl = 0\n",
    "look_up_count = 0\n",
    "msl = 0\n",
    "for i in range(M):\n",
    "    look_up = adhoc_pivot_search_ip(db[i])\n",
    "    if(look_up[0]):\n",
    "        hashed_values[i] += look_up[1]\n",
    "        msl = max(msl,hashed_values[i])\n",
    "        look_up_count += 1\n",
    "        asl += hashed_values[i]\n",
    "asl = asl/look_up_count       \n",
    "print([asl,msl])\n",
    "# print(hashed_values)"
   ]
  },
  {
   "cell_type": "markdown",
   "id": "c44a6f7a",
   "metadata": {},
   "source": [
    "# Other Well-Known Hashing Algorithms"
   ]
  },
  {
   "cell_type": "markdown",
   "id": "2acd9986",
   "metadata": {},
   "source": [
    "### 1) Linear Searching Algorithm for IP Address"
   ]
  },
  {
   "cell_type": "code",
   "execution_count": 81,
   "id": "25d664f5",
   "metadata": {},
   "outputs": [
    {
     "name": "stdout",
     "output_type": "stream",
     "text": [
      "[127.5, 255]\n"
     ]
    }
   ],
   "source": [
    "def linear_search_ip(ip): \n",
    "    collisions = 0\n",
    "    for curr_ip in db:\n",
    "        if(curr_ip==ip):\n",
    "            return [True,collisions]\n",
    "        else:\n",
    "            collisions += 1\n",
    "    return [False,0]\n",
    "\n",
    "linear_hashed_values = [0]*M\n",
    "linear_asl = 0\n",
    "linear_look_up_count = 0\n",
    "linear_msl = 0\n",
    "for i in range(M):\n",
    "    linear_look_up = linear_search_ip(db[i])\n",
    "    if(linear_look_up[0]):\n",
    "        linear_hashed_values[i] += linear_look_up[1]\n",
    "        linear_msl = max(linear_msl,linear_hashed_values[i])\n",
    "        linear_look_up_count += 1\n",
    "        linear_asl += linear_hashed_values[i]\n",
    "linear_asl = linear_asl/linear_look_up_count       \n",
    "print([linear_asl,linear_msl])"
   ]
  },
  {
   "cell_type": "markdown",
   "id": "faadd4c4",
   "metadata": {},
   "source": [
    "### 2) Standard Group XORing Algorithm"
   ]
  },
  {
   "cell_type": "code",
   "execution_count": 82,
   "id": "84162025",
   "metadata": {},
   "outputs": [
    {
     "name": "stdout",
     "output_type": "stream",
     "text": [
      "[0.48046875, 5]\n"
     ]
    }
   ],
   "source": [
    "def standard_group_XORing():\n",
    "    group_size=n//m\n",
    "    binary_grid_hashes=[]\n",
    "    for i in range(M):\n",
    "        row_hash=[]\n",
    "        for j in range(m):\n",
    "            curr=0\n",
    "            for k in range(j*group_size,j*group_size+group_size):\n",
    "                curr^=int(binary_ip[i][k])\n",
    "            row_hash.append(curr)\n",
    "        binary_grid_hashes.append(row_hash)\n",
    "    grid_hashes=[]\n",
    "    for i in range(len(binary_grid_hashes)):\n",
    "        res = int(\"\".join(str(x) for x in binary_grid_hashes[i]), 2)\n",
    "        grid_hashes.append(res)\n",
    "    return grid_hashes\n",
    "\n",
    "group_XORing_keys=standard_group_XORing()\n",
    "\n",
    "group_XORing_ip_hashmap = {}\n",
    "for i in range(M):\n",
    "    group_XORing_ip_hashmap.setdefault(group_XORing_keys[i], [])\n",
    "for i in range(M):    \n",
    "    group_XORing_ip_hashmap[group_XORing_keys[i]].append(db[i])\n",
    "\n",
    "def group_XORing_search_ip(ip): \n",
    "    curr_hash=[]\n",
    "    original_ip=ip\n",
    "    ip=ip_to_binary(ip)\n",
    "    group_size=n//m\n",
    "    for j in range(m):\n",
    "        curr=0\n",
    "        for k in range(j*group_size,j*group_size+group_size):\n",
    "            curr^=int(ip[k])\n",
    "        curr_hash.append(curr)\n",
    "        \n",
    "    hashed_ip_key=int(\"\".join(str(x) for x in curr_hash), 2)\n",
    "    collisions = 0\n",
    "    if(group_XORing_ip_hashmap[hashed_ip_key]):\n",
    "        for curr_ip in group_XORing_ip_hashmap[hashed_ip_key]:\n",
    "            if(curr_ip==original_ip):\n",
    "                return [True,collisions]\n",
    "            else:\n",
    "                collisions += 1\n",
    "        return [False,collisions]\n",
    "    return [False,0]\n",
    "\n",
    "group_XORing_hashed_values = [0]*M\n",
    "group_XORing_asl = 0\n",
    "group_XORing_look_up_count = 0\n",
    "group_XORing_msl = 0\n",
    "for i in range(M):\n",
    "    group_XORing_look_up = group_XORing_search_ip(db[i])\n",
    "    if(group_XORing_look_up[0]):\n",
    "        group_XORing_hashed_values[i] += group_XORing_look_up[1]\n",
    "        group_XORing_msl = max(group_XORing_msl,group_XORing_hashed_values[i])\n",
    "        group_XORing_look_up_count += 1\n",
    "        group_XORing_asl += group_XORing_hashed_values[i]\n",
    "group_XORing_asl = group_XORing_asl/group_XORing_look_up_count       \n",
    "print([group_XORing_asl,group_XORing_msl])"
   ]
  },
  {
   "cell_type": "markdown",
   "id": "418c05f8",
   "metadata": {},
   "source": [
    "### 3) Advanced Bit Extraction Algorithm"
   ]
  },
  {
   "cell_type": "code",
   "execution_count": 83,
   "id": "c87a57fc",
   "metadata": {},
   "outputs": [
    {
     "name": "stdout",
     "output_type": "stream",
     "text": [
      "[2.541176470588235, 9]\n"
     ]
    }
   ],
   "source": [
    "def bit_extraction():\n",
    "    # calculation of d-values\n",
    "    d = [0]*n\n",
    "    for row in binary_ip:\n",
    "        for col in range(0,n):\n",
    "            d[col] += int(row[col])\n",
    "    for col in range(0,n):\n",
    "        d[col] = abs(2*d[col]-M)\n",
    "    # Sort hash values based on d\n",
    "    d = sorted(d)\n",
    "    d=d[:m]\n",
    "    return d\n",
    "\n",
    "bit_extraction_d = bit_extraction()\n",
    "bit_hash_keys = []\n",
    "bit_extraction_l = len(bit_extraction_d)\n",
    "for i in range(0,bit_extraction_l):\n",
    "    if(random.randint(0,1)):\n",
    "        one = (M+bit_extraction_d[i])//2\n",
    "        zero = M-one\n",
    "        col = [0]*zero + [1]*one\n",
    "        random.shuffle(col)\n",
    "        bit_hash_keys.append(col)\n",
    "    else:\n",
    "        zero = (M+bit_extraction_d[i])//2\n",
    "        one = M-zero\n",
    "        col = [0]*zero + [1]*one\n",
    "        random.shuffle(col)\n",
    "        bit_hash_keys.append(col)\n",
    "        \n",
    "bit_hash_keys = numpy.transpose(bit_hash_keys)\n",
    "bit_hash_keys = bit_hash_keys.tolist()\n",
    "bit_extraction_hash_keys = []\n",
    "for i in range(len(bit_hash_keys)):\n",
    "    res = int(\"\".join(str(x) for x in bit_hash_keys[i]), 2)\n",
    "    bit_extraction_hash_keys.append(res)\n",
    "\n",
    "bit_extraction_ip_key = {}\n",
    "for i in range(M):\n",
    "    bit_extraction_ip_key[db[i]] = bit_extraction_hash_keys[i]\n",
    "\n",
    "bit_extraction_ip_hashmap = {}\n",
    "for i in range(M):\n",
    "    bit_extraction_ip_hashmap.setdefault(bit_extraction_hash_keys[i], [])\n",
    "for i in range(M):    \n",
    "    bit_extraction_ip_hashmap[bit_extraction_hash_keys[i]].append(db[i])\n",
    "\n",
    "\n",
    "def bit_extraction_search_ip(ip):\n",
    "    collisions = 0\n",
    "    if(bit_extraction_ip_key[ip]):\n",
    "        for curr_ip in bit_extraction_ip_hashmap[bit_extraction_ip_key[ip]]:\n",
    "            if(curr_ip==ip):\n",
    "                return [True,collisions+len(bit_extraction_ip_hashmap[bit_extraction_ip_key[ip]])]\n",
    "            else:\n",
    "                collisions += 1\n",
    "    return [False,0]\n",
    "\n",
    "bit_hashed_values = [0]*M\n",
    "bit_asl = 0\n",
    "bit_look_up_count = 0\n",
    "bit_msl = 0\n",
    "for i in range(M):\n",
    "    bit_look_up = bit_extraction_search_ip(db[i])\n",
    "    if(bit_look_up[0]):\n",
    "        bit_hashed_values[i] += bit_look_up[1]\n",
    "        bit_msl = max(bit_msl,bit_hashed_values[i])\n",
    "        bit_look_up_count += 1\n",
    "        bit_asl += bit_hashed_values[i]\n",
    "bit_asl = bit_asl/bit_look_up_count       \n",
    "print([bit_asl,bit_msl])\n",
    "# print(hashed_values)"
   ]
  },
  {
   "cell_type": "code",
   "execution_count": 84,
   "id": "87246548",
   "metadata": {},
   "outputs": [],
   "source": [
    "# List \n",
    "Result_List=[\"AIP256\",asl,linear_asl,bit_asl,group_XORing_asl,msl,linear_msl,bit_msl,group_XORing_msl]\n",
    "# Open our existing CSV file in append mode\n",
    "# Create a file object for this file\n",
    "with open('A_performance.csv', 'a') as f_object:\n",
    "    \n",
    "    # Pass this file object to csv.writer()\n",
    "    # and get a writer object\n",
    "    writer_object = csv.writer(f_object)\n",
    "  \n",
    "    # Pass the list as an argument into\n",
    "    # the writerow()\n",
    "    writer_object.writerow(Result_List)\n",
    "  \n",
    "    #Close the file object\n",
    "    f_object.close()"
   ]
  },
  {
   "cell_type": "code",
   "execution_count": null,
   "id": "7b8a6789",
   "metadata": {},
   "outputs": [],
   "source": []
  },
  {
   "cell_type": "code",
   "execution_count": null,
   "id": "dd948cb8",
   "metadata": {},
   "outputs": [],
   "source": []
  }
 ],
 "metadata": {
  "kernelspec": {
   "display_name": "Python 3 (ipykernel)",
   "language": "python",
   "name": "python3"
  },
  "language_info": {
   "codemirror_mode": {
    "name": "ipython",
    "version": 3
   },
   "file_extension": ".py",
   "mimetype": "text/x-python",
   "name": "python",
   "nbconvert_exporter": "python",
   "pygments_lexer": "ipython3",
   "version": "3.8.12"
  }
 },
 "nbformat": 4,
 "nbformat_minor": 5
}
