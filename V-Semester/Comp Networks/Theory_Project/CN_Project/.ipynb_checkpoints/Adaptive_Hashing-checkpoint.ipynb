{
 "cells": [
  {
   "cell_type": "markdown",
   "id": "e3ba7356",
   "metadata": {},
   "source": [
    "# Adaptive Hashing for IP Address Lookup in Computer Networks"
   ]
  },
  {
   "cell_type": "code",
   "execution_count": 1,
   "id": "c5dbb061",
   "metadata": {},
   "outputs": [],
   "source": [
    "import math\n",
    "import csv\n",
    "import operator as op\n",
    "from functools import reduce\n",
    "import random\n",
    "import numpy "
   ]
  },
  {
   "cell_type": "code",
   "execution_count": 2,
   "id": "2c28abe6",
   "metadata": {},
   "outputs": [],
   "source": [
    "def ip_to_binary(ip):\n",
    "    return (''.join([bin(int(x)+256)[3:] for x in ip.split('.')]))"
   ]
  },
  {
   "cell_type": "code",
   "execution_count": 3,
   "id": "ff50e311",
   "metadata": {},
   "outputs": [
    {
     "name": "stdout",
     "output_type": "stream",
     "text": [
      "['ï»¿64 IP Addresses ']\n",
      "['41.74.160.0', '41.77.160.0', '41.138.80.0', '41.186.0.0', '41.197.0.0', '41.215.248.0', '41.216.96.0', '41.216.112.0', '41.216.120.0', '41.222.244.0', '41.242.140.0', '104.143.19.0', '105.21.96.0', '105.178.0.0', '154.68.64.0', '196.12.140.0', '196.12.144.0', '196.44.240.0', '196.49.7.0', '196.223.12.0', '197.157.128.0', '197.157.212.0', '197.234.244.0', '197.243.0.0', '41.78.72.0', '41.79.196.0', '41.223.108.0', '80.78.20.233', '80.78.20.234', '80.78.20.236', '80.78.23.209', '80.78.23.210', '80.78.23.212', '80.78.23.216', '104.143.203.0', '104.167.246.0', '154.72.24.0', '154.72.48.0', '154.73.24.0', '154.73.44.0', '154.73.76.0', '154.73.124.0', '154.118.240.0', '196.11.62.0', '197.157.244.0', '197.220.64.0', '197.231.200.0', '217.20.243.1', '217.20.243.2', '217.20.243.4', '217.20.243.8', '217.20.243.16', '217.20.243.32', '5.100.160.0', '23.232.255.0', '31.31.176.0', '46.35.64.0', '46.243.149.0', '63.168.168.0', '63.171.18.0', '63.173.172.0', '65.162.184.0', '78.137.64.0', '81.91.24.0']\n"
     ]
    }
   ],
   "source": [
    "file = open(\"IP_Database/IP64.csv\")\n",
    "csvreader = csv.reader(file)\n",
    "header = next(csvreader)\n",
    "print(header)\n",
    "db = []\n",
    "for row in csvreader:\n",
    "    db.append(row[0])\n",
    "print(db)\n",
    "file.close()"
   ]
  },
  {
   "cell_type": "code",
   "execution_count": 4,
   "id": "29978947",
   "metadata": {},
   "outputs": [],
   "source": [
    "binary_ip = []\n",
    "for ip in db:\n",
    "    ip = ip_to_binary(ip)\n",
    "    binary_ip.append(ip)   "
   ]
  },
  {
   "cell_type": "code",
   "execution_count": 5,
   "id": "62fe09f4",
   "metadata": {},
   "outputs": [
    {
     "name": "stdout",
     "output_type": "stream",
     "text": [
      "64\n",
      "32\n",
      "6\n"
     ]
    }
   ],
   "source": [
    "M = len(binary_ip)\n",
    "n = len(binary_ip[0])\n",
    "m = int(math.log2(M))\n",
    "print(M)\n",
    "print(n)\n",
    "print(m)"
   ]
  },
  {
   "cell_type": "markdown",
   "id": "da6911d4",
   "metadata": {},
   "source": [
    "# Ad Hoc Pivot Hashing"
   ]
  },
  {
   "cell_type": "code",
   "execution_count": 6,
   "id": "05ed64f7",
   "metadata": {},
   "outputs": [],
   "source": [
    "def nCr(n, r):\n",
    "    r = min(r, n-r)\n",
    "    numer = reduce(op.mul, range(n, n-r, -1), 1)\n",
    "    denom = reduce(op.mul, range(1, r+1), 1)\n",
    "    return numer//denom   \n",
    "\n",
    "def round_to_nearest_even(f):\n",
    "    up = math.ceil(f / 2.) * 2\n",
    "    down = math.floor(f / 2.) * 2\n",
    "    if(up-f > f-down):\n",
    "        return down\n",
    "    else:\n",
    "        return up\n",
    "\n",
    "def d_XORing(di,dj):\n",
    "    xi = (M-di)//2\n",
    "    xj = (M-dj)//2\n",
    "    if(xi<xj):\n",
    "        (xi,xj) = (xj,xi)\n",
    "    delta = xi-xj\n",
    "    decimal_xor_d = 0\n",
    "    for k in range(0,xj+1):\n",
    "        prob = (nCr(xi,xj-k)*nCr(M-xi,k))/nCr(M,xj)\n",
    "        decimal_xor_d += (abs(M-2*delta-4*k)*prob)  \n",
    "    even_xor_d =  round_to_nearest_even(decimal_xor_d)\n",
    "    return [decimal_xor_d,even_xor_d]\n",
    "\n",
    "def reduction_on_xor(di,dj):\n",
    "    xor_d = d_XORing(di,dj)[0]\n",
    "    min_d = min(di,dj)\n",
    "    if(min_d==0):\n",
    "        return -1e9\n",
    "    pij = (min_d - xor_d)/min_d\n",
    "    return pij\n",
    "\n",
    "def next_avg_μ(d):\n",
    "    d = sorted(d)\n",
    "    μ_pre = 0\n",
    "    for i in range(0,m):\n",
    "        μ_pre += d[i]        \n",
    "    μ_pre = μ_pre//m\n",
    "    return μ_pre\n",
    "\n",
    "def combined_values(i,j,d):\n",
    "    if(i>=0 and j<len(d)):\n",
    "        return [reduction_on_xor(d[i],d[j]),d_XORing(d[i],d[j])[1],i,j]\n",
    "    return [-2e50,-1,i,j]\n"
   ]
  },
  {
   "cell_type": "code",
   "execution_count": 7,
   "id": "dab9e10c",
   "metadata": {},
   "outputs": [],
   "source": [
    "def adhoc_pivot():\n",
    "    # initial calculation of d-values\n",
    "    d = [0]*n\n",
    "    for row in binary_ip:\n",
    "        for col in range(0,n):\n",
    "            d[col] += int(row[col])\n",
    "    for col in range(0,n):\n",
    "        d[col] = abs(2*d[col]-M)\n",
    "    \n",
    "    while(len(d)>m):\n",
    "        \n",
    "        # Sort intermediate hash values based on d\n",
    "        d = sorted(d)\n",
    "        \n",
    "        # Find μ-pre\n",
    "        μ_pre = next_avg_μ(d)\n",
    "        \n",
    "        # Find pivot point\n",
    "        pivot_position = 0\n",
    "        max_red = -1e9\n",
    "        for i in range(0,len(d)):\n",
    "            for j in range(i+1,len(d)):\n",
    "                per_red = reduction_on_xor(d[i],d[j])\n",
    "                if(per_red > max_red):\n",
    "                    max_red = per_red\n",
    "                    pivot_position = i if d[i] < d[j] else j\n",
    "        \n",
    "        combo1 = combined_values(pivot_position-1,pivot_position+1,d)\n",
    "        combo2 = combined_values(pivot_position-1,pivot_position,d)\n",
    "        combo3 = combined_values(pivot_position,pivot_position+1,d) \n",
    "        \n",
    "        best_pair_pivot = max(combo1,combo2,combo3)\n",
    "        \n",
    "        d_pivot = d[:]\n",
    "        d_pivot.pop(best_pair_pivot[3])\n",
    "        d_pivot.pop(best_pair_pivot[2])\n",
    "        d_pivot.append(best_pair_pivot[1])\n",
    "        \n",
    "        # Find the μ-pivot\n",
    "        μ_pivot = next_avg_μ(d_pivot)\n",
    "        \n",
    "          \n",
    "        # Find the μ-m+1\n",
    "        combo4 = combined_values(m-1,m,d)\n",
    "        combo5 = combined_values(m,m+1,d)\n",
    "        \n",
    "        best_pair = max(combo4,combo5)\n",
    "        \n",
    "        d_m_plus_1 = d[:]\n",
    "        d_m_plus_1.pop(best_pair[3])\n",
    "        d_m_plus_1.pop(best_pair[2])\n",
    "        d_m_plus_1.append(best_pair[1])\n",
    "        \n",
    "        μ_m_plus_1 = next_avg_μ(d_m_plus_1)\n",
    "        \n",
    "        if(μ_m_plus_1 > μ_pre and μ_pivot > μ_pre):\n",
    "            break\n",
    "        elif(μ_m_plus_1 < μ_pivot):\n",
    "            d = d_pivot[:]\n",
    "        else:\n",
    "            d = d_m_plus_1[:]\n",
    "    \n",
    "    # resultant d \n",
    "    return d\n",
    "       "
   ]
  },
  {
   "cell_type": "code",
   "execution_count": 8,
   "id": "f30be138",
   "metadata": {},
   "outputs": [
    {
     "name": "stdout",
     "output_type": "stream",
     "text": [
      "[0.28125, 2]\n"
     ]
    }
   ],
   "source": [
    "d = adhoc_pivot()\n",
    "binary_hash_keys = []\n",
    "l = len(d)\n",
    "for i in range(0,l):\n",
    "    if(random.randint(0,1)):\n",
    "        one = (M+d[i])//2\n",
    "        zero = M-one\n",
    "        col = [0]*zero + [1]*one\n",
    "        random.shuffle(col)\n",
    "        binary_hash_keys.append(col)\n",
    "    else:\n",
    "        zero = (M+d[i])//2\n",
    "        one = M-zero\n",
    "        col = [0]*zero + [1]*one\n",
    "        random.shuffle(col)\n",
    "        binary_hash_keys.append(col)\n",
    "        \n",
    "binary_hash_keys = numpy.transpose(binary_hash_keys)\n",
    "binary_hash_keys = binary_hash_keys.tolist()\n",
    "hash_keys = []\n",
    "for i in range(len(binary_hash_keys)):\n",
    "    res = int(\"\".join(str(x) for x in binary_hash_keys[i]), 2)\n",
    "    hash_keys.append(res)\n",
    "\n",
    "ip_key = {}\n",
    "for i in range(M):\n",
    "    ip_key[db[i]] = hash_keys[i]\n",
    "\n",
    "ip_hashmap = {}\n",
    "for i in range(M):\n",
    "    ip_hashmap.setdefault(hash_keys[i], [])\n",
    "for i in range(M):    \n",
    "    ip_hashmap[hash_keys[i]].append(db[i])\n",
    "\n",
    "\n",
    "def adhoc_pivot_search_ip(ip):\n",
    "    collisions = 0\n",
    "    if(ip_key[ip]):\n",
    "        for curr_ip in ip_hashmap[ip_key[ip]]:\n",
    "            if(curr_ip==ip):\n",
    "                return [True,collisions]\n",
    "            else:\n",
    "                collisions += 1\n",
    "    return [False,0]\n",
    "\n",
    "hashed_values = [0]*M\n",
    "asl = 0\n",
    "look_up_count = 0\n",
    "msl = 0\n",
    "for i in range(M):\n",
    "    look_up = adhoc_pivot_search_ip(db[i])\n",
    "    if(look_up[0]):\n",
    "        hashed_values[i] += look_up[1]\n",
    "        msl = max(msl,hashed_values[i])\n",
    "        look_up_count += 1\n",
    "        asl += hashed_values[i]\n",
    "asl = asl/look_up_count       \n",
    "print([asl,msl])\n",
    "# print(hashed_values)"
   ]
  },
  {
   "cell_type": "markdown",
   "id": "c44a6f7a",
   "metadata": {},
   "source": [
    "# Other Well-Known Hashing Algorithms"
   ]
  },
  {
   "cell_type": "markdown",
   "id": "2acd9986",
   "metadata": {},
   "source": [
    "### 1) Linear Searching Algorithm for IP Address"
   ]
  },
  {
   "cell_type": "code",
   "execution_count": 9,
   "id": "25d664f5",
   "metadata": {},
   "outputs": [
    {
     "name": "stdout",
     "output_type": "stream",
     "text": [
      "[31.5, 63]\n"
     ]
    }
   ],
   "source": [
    "def linear_search_ip(ip): \n",
    "    collisions = 0\n",
    "    for curr_ip in db:\n",
    "        if(curr_ip==ip):\n",
    "            return [True,collisions]\n",
    "        else:\n",
    "            collisions += 1\n",
    "    return [False,0]\n",
    "\n",
    "linear_hashed_values = [0]*M\n",
    "linear_asl = 0\n",
    "linear_look_up_count = 0\n",
    "linear_msl = 0\n",
    "for i in range(M):\n",
    "    linear_look_up = linear_search_ip(db[i])\n",
    "    if(linear_look_up[0]):\n",
    "        linear_hashed_values[i] += linear_look_up[1]\n",
    "        linear_msl = max(linear_msl,linear_hashed_values[i])\n",
    "        linear_look_up_count += 1\n",
    "        linear_asl += linear_hashed_values[i]\n",
    "linear_asl = linear_asl/linear_look_up_count       \n",
    "print([linear_asl,linear_msl])"
   ]
  },
  {
   "cell_type": "markdown",
   "id": "faadd4c4",
   "metadata": {},
   "source": [
    "### 2) Standard Group XORing Algorithm"
   ]
  },
  {
   "cell_type": "code",
   "execution_count": 10,
   "id": "84162025",
   "metadata": {},
   "outputs": [
    {
     "name": "stdout",
     "output_type": "stream",
     "text": [
      "[1.171875, 5]\n"
     ]
    }
   ],
   "source": [
    "def standard_group_XORing():\n",
    "    group_size=n//m\n",
    "    binary_grid_hashes=[]\n",
    "    for i in range(M):\n",
    "        row_hash=[]\n",
    "        for j in range(m):\n",
    "            curr=0\n",
    "            for k in range(j*group_size,j*group_size+group_size):\n",
    "                curr^=int(binary_ip[i][k])\n",
    "            row_hash.append(curr)\n",
    "        binary_grid_hashes.append(row_hash)\n",
    "    grid_hashes=[]\n",
    "    for i in range(len(binary_grid_hashes)):\n",
    "        res = int(\"\".join(str(x) for x in binary_grid_hashes[i]), 2)\n",
    "        grid_hashes.append(res)\n",
    "    return grid_hashes\n",
    "\n",
    "group_XORing_keys=standard_group_XORing()\n",
    "\n",
    "group_XORing_ip_hashmap = {}\n",
    "for i in range(M):\n",
    "    group_XORing_ip_hashmap.setdefault(group_XORing_keys[i], [])\n",
    "for i in range(M):    \n",
    "    group_XORing_ip_hashmap[group_XORing_keys[i]].append(db[i])\n",
    "\n",
    "def group_XORing_search_ip(ip): \n",
    "    curr_hash=[]\n",
    "    original_ip=ip\n",
    "    ip=ip_to_binary(ip)\n",
    "    group_size=n//m\n",
    "    for j in range(m):\n",
    "        curr=0\n",
    "        for k in range(j*group_size,j*group_size+group_size):\n",
    "            curr^=int(ip[k])\n",
    "        curr_hash.append(curr)\n",
    "        \n",
    "    hashed_ip_key=int(\"\".join(str(x) for x in curr_hash), 2)\n",
    "    collisions = 0\n",
    "    if(group_XORing_ip_hashmap[hashed_ip_key]):\n",
    "        for curr_ip in group_XORing_ip_hashmap[hashed_ip_key]:\n",
    "            if(curr_ip==original_ip):\n",
    "                return [True,collisions]\n",
    "            else:\n",
    "                collisions += 1\n",
    "        return [False,collisions]\n",
    "    return [False,0]\n",
    "\n",
    "group_XORing_hashed_values = [0]*M\n",
    "group_XORing_asl = 0\n",
    "group_XORing_look_up_count = 0\n",
    "group_XORing_msl = 0\n",
    "for i in range(M):\n",
    "    group_XORing_look_up = group_XORing_search_ip(db[i])\n",
    "    if(group_XORing_look_up[0]):\n",
    "        group_XORing_hashed_values[i] += group_XORing_look_up[1]\n",
    "        group_XORing_msl = max(group_XORing_msl,group_XORing_hashed_values[i])\n",
    "        group_XORing_look_up_count += 1\n",
    "        group_XORing_asl += group_XORing_hashed_values[i]\n",
    "group_XORing_asl = group_XORing_asl/group_XORing_look_up_count       \n",
    "print([group_XORing_asl,group_XORing_msl])"
   ]
  },
  {
   "cell_type": "markdown",
   "id": "418c05f8",
   "metadata": {},
   "source": [
    "### 3) Advanced Bit Extraction Algorithm"
   ]
  },
  {
   "cell_type": "code",
   "execution_count": 11,
   "id": "c87a57fc",
   "metadata": {},
   "outputs": [
    {
     "name": "stdout",
     "output_type": "stream",
     "text": [
      "[2.640625, 5]\n"
     ]
    }
   ],
   "source": [
    "def bit_extraction():\n",
    "    # calculation of d-values\n",
    "    d = [0]*n\n",
    "    for row in binary_ip:\n",
    "        for col in range(0,n):\n",
    "            d[col] += int(row[col])\n",
    "    for col in range(0,n):\n",
    "        d[col] = abs(2*d[col]-M)\n",
    "    # Sort hash values based on d\n",
    "    d = sorted(d)\n",
    "    d=d[:m]\n",
    "    return d\n",
    "\n",
    "bit_extraction_d = bit_extraction()\n",
    "bit_hash_keys = []\n",
    "bit_extraction_l = len(bit_extraction_d)\n",
    "for i in range(0,bit_extraction_l):\n",
    "    if(random.randint(0,1)):\n",
    "        one = (M+bit_extraction_d[i])//2\n",
    "        zero = M-one\n",
    "        col = [0]*zero + [1]*one\n",
    "        random.shuffle(col)\n",
    "        bit_hash_keys.append(col)\n",
    "    else:\n",
    "        zero = (M+bit_extraction_d[i])//2\n",
    "        one = M-zero\n",
    "        col = [0]*zero + [1]*one\n",
    "        random.shuffle(col)\n",
    "        bit_hash_keys.append(col)\n",
    "        \n",
    "bit_hash_keys = numpy.transpose(bit_hash_keys)\n",
    "bit_hash_keys = bit_hash_keys.tolist()\n",
    "bit_extraction_hash_keys = []\n",
    "for i in range(len(bit_hash_keys)):\n",
    "    res = int(\"\".join(str(x) for x in bit_hash_keys[i]), 2)\n",
    "    bit_extraction_hash_keys.append(res)\n",
    "\n",
    "bit_extraction_ip_key = {}\n",
    "for i in range(M):\n",
    "    bit_extraction_ip_key[db[i]] = bit_extraction_hash_keys[i]\n",
    "\n",
    "bit_extraction_ip_hashmap = {}\n",
    "for i in range(M):\n",
    "    bit_extraction_ip_hashmap.setdefault(bit_extraction_hash_keys[i], [])\n",
    "for i in range(M):    \n",
    "    bit_extraction_ip_hashmap[bit_extraction_hash_keys[i]].append(db[i])\n",
    "\n",
    "\n",
    "def bit_extraction_search_ip(ip):\n",
    "    collisions = 0\n",
    "    if(bit_extraction_ip_key[ip]):\n",
    "        for curr_ip in bit_extraction_ip_hashmap[bit_extraction_ip_key[ip]]:\n",
    "            if(curr_ip==ip):\n",
    "                return [True,collisions+len(bit_extraction_ip_hashmap[bit_extraction_ip_key[ip]])]\n",
    "            else:\n",
    "                collisions += 1\n",
    "    return [False,0]\n",
    "\n",
    "bit_hashed_values = [0]*M\n",
    "bit_asl = 0\n",
    "bit_look_up_count = 0\n",
    "bit_msl = 0\n",
    "for i in range(M):\n",
    "    bit_look_up = bit_extraction_search_ip(db[i])\n",
    "    if(bit_look_up[0]):\n",
    "        bit_hashed_values[i] += bit_look_up[1]\n",
    "        bit_msl = max(bit_msl,bit_hashed_values[i])\n",
    "        bit_look_up_count += 1\n",
    "        bit_asl += bit_hashed_values[i]\n",
    "bit_asl = bit_asl/bit_look_up_count       \n",
    "print([bit_asl,bit_msl])\n",
    "# print(hashed_values)"
   ]
  },
  {
   "cell_type": "code",
   "execution_count": 12,
   "id": "e327745d",
   "metadata": {},
   "outputs": [],
   "source": [
    "# # List \n",
    "# Result_List=[\"IP64\",asl,linear_asl,bit_asl,group_XORing_asl,msl,linear_msl,bit_msl,group_XORing_msl]\n",
    "# # Open our existing CSV file in append mode\n",
    "# # Create a file object for this file\n",
    "# with open('performance.csv', 'a') as f_object:\n",
    "    \n",
    "#     # Pass this file object to csv.writer()\n",
    "#     # and get a writer object\n",
    "#     writer_object = csv.writer(f_object)\n",
    "  \n",
    "#     # Pass the list as an argument into\n",
    "#     # the writerow()\n",
    "#     writer_object.writerow(Result_List)\n",
    "  \n",
    "#     #Close the file object\n",
    "#     f_object.close()"
   ]
  },
  {
   "cell_type": "code",
   "execution_count": null,
   "id": "ae2ac3f4",
   "metadata": {},
   "outputs": [],
   "source": []
  }
 ],
 "metadata": {
  "kernelspec": {
   "display_name": "Python 3",
   "language": "python",
   "name": "python3"
  },
  "language_info": {
   "codemirror_mode": {
    "name": "ipython",
    "version": 3
   },
   "file_extension": ".py",
   "mimetype": "text/x-python",
   "name": "python",
   "nbconvert_exporter": "python",
   "pygments_lexer": "ipython3",
   "version": "3.8.8"
  }
 },
 "nbformat": 4,
 "nbformat_minor": 5
}
