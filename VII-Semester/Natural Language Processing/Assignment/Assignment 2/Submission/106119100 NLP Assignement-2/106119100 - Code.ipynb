{
  "cells": [
    {
      "cell_type": "markdown",
      "metadata": {},
      "source": [
        "**Rajneesh Pandey, 106119100**"
      ]
    },
    {
      "cell_type": "markdown",
      "metadata": {
        "colab_type": "text",
        "id": "YToMpQ8pPCJD"
      },
      "source": [
        "**NLP Assignment 2 : Sentiment Analysis - Classify the sentiment of sentences from the dataset**"
      ]
    },
    {
      "cell_type": "markdown",
      "metadata": {
        "colab_type": "text",
        "id": "a93raggoPNS2"
      },
      "source": [
        "**Developing Machine Learning Models using TF - IDF as feature extraction / representation**"
      ]
    },
    {
      "cell_type": "markdown",
      "metadata": {
        "colab_type": "text",
        "id": "UtJkXJafPZ-S"
      },
      "source": [
        "**Load the required libraries**"
      ]
    },
    {
      "cell_type": "code",
      "execution_count": null,
      "metadata": {
        "colab": {},
        "colab_type": "code",
        "id": "7LYPBByjPdbw"
      },
      "outputs": [],
      "source": [
        "import pandas as pd\n",
        "import matplotlib\n",
        "import numpy as np\n",
        "import matplotlib.pyplot as plt\n",
        "%matplotlib inline\n",
        "import seaborn as sns\n",
        "import nltk"
      ]
    },
    {
      "cell_type": "code",
      "execution_count": 2,
      "metadata": {
        "colab": {
          "base_uri": "https://localhost:8080/",
          "height": 289
        },
        "colab_type": "code",
        "id": "h88XKsJVvtae",
        "outputId": "138711a6-dc0c-4597-de31-0f1d2670eafb"
      },
      "outputs": [
        {
          "name": "stdout",
          "output_type": "stream",
          "text": [
            "Collecting scikit-plot\n",
            "  Downloading https://files.pythonhosted.org/packages/7c/47/32520e259340c140a4ad27c1b97050dd3254fdc517b1d59974d47037510e/scikit_plot-0.3.7-py3-none-any.whl\n",
            "Requirement already satisfied: scipy>=0.9 in /usr/local/lib/python3.6/dist-packages (from scikit-plot) (1.3.0)\n",
            "Requirement already satisfied: matplotlib>=1.4.0 in /usr/local/lib/python3.6/dist-packages (from scikit-plot) (3.0.3)\n",
            "Requirement already satisfied: joblib>=0.10 in /usr/local/lib/python3.6/dist-packages (from scikit-plot) (0.13.2)\n",
            "Requirement already satisfied: scikit-learn>=0.18 in /usr/local/lib/python3.6/dist-packages (from scikit-plot) (0.21.2)\n",
            "Requirement already satisfied: numpy>=1.13.3 in /usr/local/lib/python3.6/dist-packages (from scipy>=0.9->scikit-plot) (1.16.4)\n",
            "Requirement already satisfied: python-dateutil>=2.1 in /usr/local/lib/python3.6/dist-packages (from matplotlib>=1.4.0->scikit-plot) (2.5.3)\n",
            "Requirement already satisfied: pyparsing!=2.0.4,!=2.1.2,!=2.1.6,>=2.0.1 in /usr/local/lib/python3.6/dist-packages (from matplotlib>=1.4.0->scikit-plot) (2.4.0)\n",
            "Requirement already satisfied: kiwisolver>=1.0.1 in /usr/local/lib/python3.6/dist-packages (from matplotlib>=1.4.0->scikit-plot) (1.1.0)\n",
            "Requirement already satisfied: cycler>=0.10 in /usr/local/lib/python3.6/dist-packages (from matplotlib>=1.4.0->scikit-plot) (0.10.0)\n",
            "Requirement already satisfied: six>=1.5 in /usr/local/lib/python3.6/dist-packages (from python-dateutil>=2.1->matplotlib>=1.4.0->scikit-plot) (1.12.0)\n",
            "Requirement already satisfied: setuptools in /usr/local/lib/python3.6/dist-packages (from kiwisolver>=1.0.1->matplotlib>=1.4.0->scikit-plot) (41.0.1)\n",
            "Installing collected packages: scikit-plot\n",
            "Successfully installed scikit-plot-0.3.7\n"
          ]
        }
      ],
      "source": [
        "!pip install scikit-plot"
      ]
    },
    {
      "cell_type": "markdown",
      "metadata": {
        "colab_type": "text",
        "id": "p7tCjPX1Pj-x"
      },
      "source": [
        "**Load Trainig and testing dataset**"
      ]
    },
    {
      "cell_type": "code",
      "execution_count": null,
      "metadata": {
        "colab": {},
        "colab_type": "code",
        "id": "22s3cZBMPkmu"
      },
      "outputs": [],
      "source": [
        "df = pd.read_csv(\"/data/train.txt\", sep=\"\\t\")"
      ]
    },
    {
      "cell_type": "code",
      "execution_count": null,
      "metadata": {
        "colab": {},
        "colab_type": "code",
        "id": "OGCNOfe6PsiK"
      },
      "outputs": [],
      "source": [
        "df_test = pd.read_csv(\"/data/test.txt\", sep=\"\\t\")"
      ]
    },
    {
      "cell_type": "markdown",
      "metadata": {
        "colab_type": "text",
        "id": "H38MoWDZP1i9"
      },
      "source": [
        "**Preview of datasets**"
      ]
    },
    {
      "cell_type": "code",
      "execution_count": 13,
      "metadata": {
        "colab": {
          "base_uri": "https://localhost:8080/",
          "height": 195
        },
        "colab_type": "code",
        "id": "pmltbPUAP2I4",
        "outputId": "6df45a97-5192-4e10-c6dd-0e767cb79b1c"
      },
      "outputs": [
        {
          "data": {
            "text/html": [
              "<div>\n",
              "<style scoped>\n",
              "    .dataframe tbody tr th:only-of-type {\n",
              "        vertical-align: middle;\n",
              "    }\n",
              "\n",
              "    .dataframe tbody tr th {\n",
              "        vertical-align: top;\n",
              "    }\n",
              "\n",
              "    .dataframe thead th {\n",
              "        text-align: right;\n",
              "    }\n",
              "</style>\n",
              "<table border=\"1\" class=\"dataframe\">\n",
              "  <thead>\n",
              "    <tr style=\"text-align: right;\">\n",
              "      <th></th>\n",
              "      <th>PhraseId</th>\n",
              "      <th>SentenceId</th>\n",
              "      <th>Phrase</th>\n",
              "      <th>Sentiment</th>\n",
              "    </tr>\n",
              "  </thead>\n",
              "  <tbody>\n",
              "    <tr>\n",
              "      <th>0</th>\n",
              "      <td>1</td>\n",
              "      <td>1</td>\n",
              "      <td>A series of escapades demonstrating the adage ...</td>\n",
              "      <td>1</td>\n",
              "    </tr>\n",
              "    <tr>\n",
              "      <th>1</th>\n",
              "      <td>2</td>\n",
              "      <td>1</td>\n",
              "      <td>A series of escapades demonstrating the adage ...</td>\n",
              "      <td>2</td>\n",
              "    </tr>\n",
              "    <tr>\n",
              "      <th>2</th>\n",
              "      <td>3</td>\n",
              "      <td>1</td>\n",
              "      <td>A series</td>\n",
              "      <td>2</td>\n",
              "    </tr>\n",
              "    <tr>\n",
              "      <th>3</th>\n",
              "      <td>4</td>\n",
              "      <td>1</td>\n",
              "      <td>A</td>\n",
              "      <td>2</td>\n",
              "    </tr>\n",
              "    <tr>\n",
              "      <th>4</th>\n",
              "      <td>5</td>\n",
              "      <td>1</td>\n",
              "      <td>series</td>\n",
              "      <td>2</td>\n",
              "    </tr>\n",
              "  </tbody>\n",
              "</table>\n",
              "</div>"
            ],
            "text/plain": [
              "   PhraseId  ...  Sentiment\n",
              "0         1  ...          1\n",
              "1         2  ...          2\n",
              "2         3  ...          2\n",
              "3         4  ...          2\n",
              "4         5  ...          2\n",
              "\n",
              "[5 rows x 4 columns]"
            ]
          },
          "execution_count": 13,
          "metadata": {
            "tags": []
          },
          "output_type": "execute_result"
        }
      ],
      "source": [
        "df.head()"
      ]
    },
    {
      "cell_type": "code",
      "execution_count": 14,
      "metadata": {
        "colab": {
          "base_uri": "https://localhost:8080/",
          "height": 195
        },
        "colab_type": "code",
        "id": "HCDyO9AyP5CE",
        "outputId": "0a34c720-2346-4112-91bf-c88a2b6b2cdc"
      },
      "outputs": [
        {
          "data": {
            "text/html": [
              "<div>\n",
              "<style scoped>\n",
              "    .dataframe tbody tr th:only-of-type {\n",
              "        vertical-align: middle;\n",
              "    }\n",
              "\n",
              "    .dataframe tbody tr th {\n",
              "        vertical-align: top;\n",
              "    }\n",
              "\n",
              "    .dataframe thead th {\n",
              "        text-align: right;\n",
              "    }\n",
              "</style>\n",
              "<table border=\"1\" class=\"dataframe\">\n",
              "  <thead>\n",
              "    <tr style=\"text-align: right;\">\n",
              "      <th></th>\n",
              "      <th>PhraseId</th>\n",
              "      <th>SentenceId</th>\n",
              "      <th>Phrase</th>\n",
              "    </tr>\n",
              "  </thead>\n",
              "  <tbody>\n",
              "    <tr>\n",
              "      <th>0</th>\n",
              "      <td>156061</td>\n",
              "      <td>8545</td>\n",
              "      <td>An intermittently pleasing but mostly routine ...</td>\n",
              "    </tr>\n",
              "    <tr>\n",
              "      <th>1</th>\n",
              "      <td>156062</td>\n",
              "      <td>8545</td>\n",
              "      <td>An intermittently pleasing but mostly routine ...</td>\n",
              "    </tr>\n",
              "    <tr>\n",
              "      <th>2</th>\n",
              "      <td>156063</td>\n",
              "      <td>8545</td>\n",
              "      <td>An</td>\n",
              "    </tr>\n",
              "    <tr>\n",
              "      <th>3</th>\n",
              "      <td>156064</td>\n",
              "      <td>8545</td>\n",
              "      <td>intermittently pleasing but mostly routine effort</td>\n",
              "    </tr>\n",
              "    <tr>\n",
              "      <th>4</th>\n",
              "      <td>156065</td>\n",
              "      <td>8545</td>\n",
              "      <td>intermittently pleasing but mostly routine</td>\n",
              "    </tr>\n",
              "  </tbody>\n",
              "</table>\n",
              "</div>"
            ],
            "text/plain": [
              "   PhraseId  SentenceId                                             Phrase\n",
              "0    156061        8545  An intermittently pleasing but mostly routine ...\n",
              "1    156062        8545  An intermittently pleasing but mostly routine ...\n",
              "2    156063        8545                                                 An\n",
              "3    156064        8545  intermittently pleasing but mostly routine effort\n",
              "4    156065        8545         intermittently pleasing but mostly routine"
            ]
          },
          "execution_count": 14,
          "metadata": {
            "tags": []
          },
          "output_type": "execute_result"
        }
      ],
      "source": [
        "df_test.head()"
      ]
    },
    {
      "cell_type": "markdown",
      "metadata": {
        "colab_type": "text",
        "id": "OYjwpTzCP9ep"
      },
      "source": [
        "**Creating the TF - IDF vectorizer**"
      ]
    },
    {
      "cell_type": "code",
      "execution_count": null,
      "metadata": {
        "colab": {},
        "colab_type": "code",
        "id": "6NdvsklxP9-w"
      },
      "outputs": [],
      "source": [
        "from sklearn.feature_extraction.text import TfidfVectorizer\n",
        "from nltk.tokenize import TweetTokenizer\n",
        "\n",
        "tokenizer = TweetTokenizer()\n",
        "\n",
        "vectorizer = TfidfVectorizer(ngram_range=(1, 3), tokenizer=tokenizer.tokenize)\n",
        "full_text = list(df['Phrase'].values) + list(df_test['Phrase'].values)\n",
        "\n",
        "vectorizer.fit(full_text)\n",
        "train_vectorized = vectorizer.transform(df['Phrase'])\n",
        "test_vectorized = vectorizer.transform(df_test['Phrase'])"
      ]
    },
    {
      "cell_type": "code",
      "execution_count": 16,
      "metadata": {
        "colab": {
          "base_uri": "https://localhost:8080/",
          "height": 50
        },
        "colab_type": "code",
        "id": "-0LC-0wNQA1J",
        "outputId": "9855ecc0-5b72-4878-b923-72087c08d79a"
      },
      "outputs": [
        {
          "name": "stdout",
          "output_type": "stream",
          "text": [
            "Train set dimensions after applying TF-IDF vectorizer:\n"
          ]
        },
        {
          "data": {
            "text/plain": [
              "(156060, 301627)"
            ]
          },
          "execution_count": 16,
          "metadata": {
            "tags": []
          },
          "output_type": "execute_result"
        }
      ],
      "source": [
        "print(\"Train set dimensions after applying TF-IDF vectorizer:\")\n",
        "np.shape(train_vectorized)"
      ]
    },
    {
      "cell_type": "code",
      "execution_count": null,
      "metadata": {
        "colab": {},
        "colab_type": "code",
        "id": "b_z4h92HQHoM"
      },
      "outputs": [],
      "source": [
        "X = train_vectorized\n",
        "y = df.Sentiment.values\n",
        "\n",
        "\n",
        "from sklearn.model_selection import train_test_split\n",
        "from sklearn.metrics import accuracy_score\n",
        "from sklearn.metrics import precision_score\n",
        "from sklearn.metrics import recall_score\n",
        "from sklearn.metrics import f1_score\n",
        "from sklearn.metrics import classification_report\n",
        "import time\n",
        "\n",
        "# split the data into 80:20 for training and validating.\n",
        "xtrain, xvalid, ytrain, yvalid = train_test_split(X, y, stratify=y, random_state=42, test_size=0.2, shuffle=True)"
      ]
    },
    {
      "cell_type": "code",
      "execution_count": null,
      "metadata": {
        "colab": {},
        "colab_type": "code",
        "id": "eZz_pbCIQKDJ"
      },
      "outputs": [],
      "source": [
        "\n",
        "ml_default_performance_metrics_df = pd.DataFrame(columns=['accuracy','F1-score','training-time'], index=['LogisticRegression', 'DecisionTreeClassifier', 'ExtraTreesClassifier', 'RandomForestClassifier', 'LinearSVC', 'BernoulliNB', 'MultinomialNB', 'KNeighborsClassifier'])"
      ]
    },
    {
      "cell_type": "markdown",
      "metadata": {
        "colab_type": "text",
        "id": "sKiyd7J9QN7B"
      },
      "source": [
        "**Machine learning techniques used**"
      ]
    },
    {
      "cell_type": "markdown",
      "metadata": {
        "colab_type": "text",
        "id": "KGIA6nDBQOJ1"
      },
      "source": [
        "**1. Multinomial Logistic Regression**"
      ]
    },
    {
      "cell_type": "code",
      "execution_count": 41,
      "metadata": {
        "colab": {
          "base_uri": "https://localhost:8080/",
          "height": 864
        },
        "colab_type": "code",
        "id": "nQcJnsJBQQ8z",
        "outputId": "345c5f85-e614-4e79-8130-9e78d2919f31"
      },
      "outputs": [
        {
          "name": "stdout",
          "output_type": "stream",
          "text": [
            "              precision    recall  f1-score   support\n",
            "\n",
            "           0       0.62      0.16      0.26      1414\n",
            "           1       0.56      0.33      0.42      5455\n",
            "           2       0.65      0.91      0.76     15917\n",
            "           3       0.60      0.43      0.50      6585\n",
            "           4       0.68      0.21      0.32      1841\n",
            "\n",
            "    accuracy                           0.63     31212\n",
            "   macro avg       0.62      0.41      0.45     31212\n",
            "weighted avg       0.62      0.63      0.60     31212\n",
            "\n",
            "\n",
            "accuracy_score 0.631840317826477\n",
            "\n",
            "Weighted Averaged validation metrics\n",
            "precision_score 0.6232831390820265\n",
            "recall_score 0.631840317826477\n",
            "f1_score 0.5951997402747816\n",
            "\n",
            "\n",
            "elapsed time in seconds:  19.067740440368652\n",
            "\n"
          ]
        },
        {
          "data": {
            "image/png": "[encoded data removed]",
            "text/plain": [
              "<Figure size 576x576 with 2 Axes>"
            ]
          },
          "metadata": {
            "tags": []
          },
          "output_type": "display_data"
        }
      ],
      "source": [
        "from sklearn.linear_model import LogisticRegression\n",
        "\n",
        "start_time = time.time()\n",
        "\n",
        "clf_logistic_regression = LogisticRegression(multi_class='ovr', solver='sag', random_state=42)\n",
        "clf_logistic_regression.fit(xtrain, ytrain)\n",
        "predictions = clf_logistic_regression.predict(xvalid)\n",
        "\n",
        "print(classification_report(yvalid, predictions))\n",
        "\n",
        "print()\n",
        "print(\"accuracy_score\", accuracy_score(yvalid, predictions))\n",
        "\n",
        "print()\n",
        "print(\"Weighted Averaged validation metrics\")\n",
        "print(\"precision_score\", precision_score(yvalid, predictions, average='weighted'))\n",
        "print(\"recall_score\", recall_score(yvalid, predictions, average='weighted'))\n",
        "print(\"f1_score\", f1_score(yvalid, predictions, average='weighted'))\n",
        "\n",
        "print()\n",
        "from sklearn.metrics import confusion_matrix\n",
        "import scikitplot as skplt\n",
        "sns.set(rc={'figure.figsize':(8,8)})\n",
        "skplt.metrics.plot_confusion_matrix(yvalid, predictions)\n",
        "\n",
        "\n",
        "ml_default_performance_metrics_df.loc['LogisticRegression']['training-time'] = time.time() - start_time\n",
        "ml_default_performance_metrics_df.loc['LogisticRegression']['accuracy'] = accuracy_score(yvalid, predictions)\n",
        "ml_default_performance_metrics_df.loc['LogisticRegression']['F1-score'] = f1_score(yvalid, predictions, average='micro')\n",
        "\n",
        "\n",
        "print()\n",
        "print(\"elapsed time in seconds: \", time.time() - start_time)\n",
        "print()"
      ]
    },
    {
      "cell_type": "markdown",
      "metadata": {
        "colab_type": "text",
        "id": "PEGuedigQdjU"
      },
      "source": [
        "**Multinomial Logistic Regression results in a good accuracy of 63% and F1 score of 59%**"
      ]
    },
    {
      "cell_type": "markdown",
      "metadata": {
        "colab_type": "text",
        "id": "ekQqZSp1ZhAu"
      },
      "source": [
        "**2. Multinomial NB**"
      ]
    },
    {
      "cell_type": "code",
      "execution_count": 47,
      "metadata": {
        "colab": {
          "base_uri": "https://localhost:8080/",
          "height": 898
        },
        "colab_type": "code",
        "id": "QdCKJ3S1Zh6y",
        "outputId": "4ecd6252-1bbd-4a83-b19a-074c62ca9b18"
      },
      "outputs": [
        {
          "name": "stdout",
          "output_type": "stream",
          "text": [
            "\n",
            "Evaluation of MultinomialNB with train-test split:\n",
            "              precision    recall  f1-score   support\n",
            "\n",
            "           0       0.76      0.04      0.07      1414\n",
            "           1       0.57      0.25      0.35      5455\n",
            "           2       0.61      0.93      0.74     15917\n",
            "           3       0.59      0.39      0.47      6585\n",
            "           4       0.76      0.05      0.10      1841\n",
            "\n",
            "    accuracy                           0.61     31212\n",
            "   macro avg       0.66      0.33      0.35     31212\n",
            "weighted avg       0.62      0.61      0.55     31212\n",
            "\n",
            "\n",
            "accuracy_score 0.6064654620017942\n",
            "\n",
            "Weighted Averaged validation metrics\n",
            "precision_score 0.6150381651913431\n",
            "recall_score 0.6064654620017942\n",
            "f1_score 0.5463158424084111\n",
            "\n",
            "\n",
            "elapsed time in seconds:  0.35625147819519043\n",
            "\n"
          ]
        },
        {
          "data": {
            "image/png": "[encoded data removed]",
            "text/plain": [
              "<Figure size 576x576 with 2 Axes>"
            ]
          },
          "metadata": {
            "tags": []
          },
          "output_type": "display_data"
        }
      ],
      "source": [
        "from sklearn.naive_bayes import MultinomialNB\n",
        "\n",
        "start_time = time.time()\n",
        "    \n",
        "print()\n",
        "print(\"Evaluation of MultinomialNB with train-test split:\")\n",
        "\n",
        "clf_MultinomialNB = MultinomialNB()\n",
        "clf_MultinomialNB.fit(xtrain, ytrain)\n",
        "predictions = clf_MultinomialNB.predict(xvalid)\n",
        "print(classification_report(yvalid, predictions))\n",
        "\n",
        "print()\n",
        "print(\"accuracy_score\", accuracy_score(yvalid, predictions))\n",
        "\n",
        "print()\n",
        "print(\"Weighted Averaged validation metrics\")\n",
        "print(\"precision_score\", precision_score(yvalid, predictions, average='weighted'))\n",
        "print(\"recall_score\", recall_score(yvalid, predictions, average='weighted'))\n",
        "print(\"f1_score\", f1_score(yvalid, predictions, average='weighted'))\n",
        "\n",
        "\n",
        "ml_default_performance_metrics_df.loc['MultinomialNB']['training-time'] = time.time() - start_time\n",
        "ml_default_performance_metrics_df.loc['MultinomialNB']['accuracy'] = accuracy_score(yvalid, predictions)\n",
        "ml_default_performance_metrics_df.loc['MultinomialNB']['F1-score'] = f1_score(yvalid, predictions, average='weighted')\n",
        "\n",
        "print()\n",
        "from sklearn.metrics import confusion_matrix\n",
        "import scikitplot as skplt\n",
        "sns.set(rc={'figure.figsize':(8,8)})\n",
        "skplt.metrics.plot_confusion_matrix(yvalid, predictions)\n",
        "\n",
        "\n",
        "print()\n",
        "print(\"elapsed time in seconds: \", time.time() - start_time)\n",
        "print()"
      ]
    },
    {
      "cell_type": "markdown",
      "metadata": {
        "colab_type": "text",
        "id": "KTiDKX3EjRav"
      },
      "source": [
        "**Multinomail NB results in a accuracy of 61% and F1 score 55%**"
      ]
    },
    {
      "cell_type": "markdown",
      "metadata": {
        "colab_type": "text",
        "id": "20AaNniOZ-Sy"
      },
      "source": [
        "**Logistic Regression Tuning**"
      ]
    },
    {
      "cell_type": "code",
      "execution_count": 26,
      "metadata": {
        "colab": {
          "base_uri": "https://localhost:8080/",
          "height": 151
        },
        "colab_type": "code",
        "id": "U2HhLaRUZhyL",
        "outputId": "48d6caac-5a2b-44e0-a743-38fe4aa5b06c"
      },
      "outputs": [
        {
          "name": "stdout",
          "output_type": "stream",
          "text": [
            "LogisticRegression grid Search:\n",
            "\n",
            "LogisticRegression best parameters and score\n",
            "Best score: 0.629734 using {'C': 10, 'solver': 'saga', 'tol': 0.1}\n",
            "accuracy score after tuning: 0.6581443034730232\n",
            "\n",
            "elapsed time in seconds:  578.2139675617218\n",
            "\n"
          ]
        }
      ],
      "source": [
        "from sklearn.model_selection import GridSearchCV\n",
        "from sklearn.linear_model import LogisticRegression\n",
        "import time\n",
        "\n",
        "start_time = time.time()\n",
        "print(\"LogisticRegression grid Search:\")\n",
        "\n",
        "clf_logistic_regression_grid = LogisticRegression(multi_class = 'ovr', random_state=42)\n",
        "\n",
        "X = train_vectorized\n",
        "y = df.Sentiment.values\n",
        "\n",
        "xtrain, xvalid, ytrain, yvalid = train_test_split(X, y, stratify=y, random_state=42, test_size=0.2, shuffle=True)\n",
        "\n",
        "gsc_logistic_regression = GridSearchCV(\n",
        "    estimator=clf_logistic_regression_grid,\n",
        "    param_grid={\n",
        "        'solver': ['newton-cg', 'sag', 'saga'],\n",
        "        'C': [10e-1, 10e-2, 1, 10],\n",
        "        'tol': [10e-4, 10e-3, 10e-2, 10e-1, 10e-0],\n",
        "    },\n",
        "    scoring='accuracy',\n",
        "    cv=2\n",
        ")\n",
        "\n",
        "grid_result_logistic_regression = gsc_logistic_regression.fit(xtrain, ytrain)\n",
        "\n",
        "print()\n",
        "print(\"LogisticRegression best parameters and score\")\n",
        "print(\"Best score: %f using %s\" % (grid_result_logistic_regression.best_score_, grid_result_logistic_regression.best_params_))\n",
        "\n",
        "prediction_tuned_logistic_regression = grid_result_logistic_regression.predict(xvalid)\n",
        "print(\"accuracy score after tuning:\", accuracy_score(yvalid, prediction_tuned_logistic_regression))\n",
        "\n",
        "ml_tuning_performance_metrics_df.loc['LogisticRegression']['training-time'] = time.time() - start_time\n",
        "ml_tuning_performance_metrics_df.loc['LogisticRegression']['accuracy'] = accuracy_score(yvalid, prediction_tuned_logistic_regression)\n",
        "ml_tuning_performance_metrics_df.loc['LogisticRegression']['F1-score'] = f1_score(yvalid, prediction_tuned_logistic_regression, average='macro')\n",
        "\n",
        "print()\n",
        "print(\"elapsed time in seconds: \", time.time() - start_time)\n",
        "print()"
      ]
    },
    {
      "cell_type": "markdown",
      "metadata": {
        "colab_type": "text",
        "id": "MEEcG_ySaDtl"
      },
      "source": [
        "**LogisticRegression tuning evaluation**"
      ]
    },
    {
      "cell_type": "code",
      "execution_count": 27,
      "metadata": {
        "colab": {
          "base_uri": "https://localhost:8080/",
          "height": 830
        },
        "colab_type": "code",
        "id": "gx2bx1J7ZzIX",
        "outputId": "8fa25ab4-3e24-4f9b-b5fd-08bd3b688e0b"
      },
      "outputs": [
        {
          "name": "stdout",
          "output_type": "stream",
          "text": [
            "              precision    recall  f1-score   support\n",
            "\n",
            "           0       0.51      0.33      0.40      1414\n",
            "           1       0.55      0.52      0.53      5455\n",
            "           2       0.72      0.82      0.77     15917\n",
            "           3       0.59      0.53      0.56      6585\n",
            "           4       0.58      0.37      0.45      1841\n",
            "\n",
            "    accuracy                           0.66     31212\n",
            "   macro avg       0.59      0.51      0.54     31212\n",
            "weighted avg       0.65      0.66      0.65     31212\n",
            "\n",
            "\n",
            "accuracy_score 0.6581443034730232\n",
            "\n",
            "Weighted Averaged validation metrics\n",
            "precision_score 0.6468831589744172\n",
            "recall_score 0.6581443034730232\n",
            "f1_score 0.6481980588834843\n",
            "\n"
          ]
        },
        {
          "data": {
            "text/plain": [
              "<matplotlib.axes._subplots.AxesSubplot at 0x7fcd83c70b70>"
            ]
          },
          "execution_count": 27,
          "metadata": {
            "tags": []
          },
          "output_type": "execute_result"
        },
        {
          "data": {
            "image/png": "[encoded data removed]",
            "text/plain": [
              "<Figure size 576x576 with 2 Axes>"
            ]
          },
          "metadata": {
            "tags": []
          },
          "output_type": "display_data"
        }
      ],
      "source": [
        "predictions_tuned_logistic_regression = grid_result_logistic_regression.predict(xvalid)\n",
        "\n",
        "print(classification_report(yvalid, predictions_tuned_logistic_regression))\n",
        "\n",
        "print()\n",
        "print(\"accuracy_score\", accuracy_score(yvalid, predictions_tuned_logistic_regression))\n",
        "\n",
        "print()\n",
        "print(\"Weighted Averaged validation metrics\")\n",
        "print(\"precision_score\", precision_score(yvalid, predictions_tuned_logistic_regression, average='weighted'))\n",
        "print(\"recall_score\", recall_score(yvalid, predictions_tuned_logistic_regression, average='weighted'))\n",
        "print(\"f1_score\", f1_score(yvalid, predictions_tuned_logistic_regression, average='weighted'))\n",
        "\n",
        "\n",
        "print()\n",
        "from sklearn.metrics import confusion_matrix\n",
        "import scikitplot as skplt\n",
        "sns.set(rc={'figure.figsize':(8,8)})\n",
        "skplt.metrics.plot_confusion_matrix(yvalid, predictions_tuned_logistic_regression)"
      ]
    },
    {
      "cell_type": "markdown",
      "metadata": {
        "colab_type": "text",
        "id": "BDjDUoSt0D-W"
      },
      "source": [
        "**In Logistic Regression tuning also we cannot see any improvement in accuracy and F1 score**"
      ]
    },
    {
      "cell_type": "markdown",
      "metadata": {
        "colab_type": "text",
        "id": "cI2buYL4U_tj"
      },
      "source": [
        "**ML Predictions with Test Set**"
      ]
    },
    {
      "cell_type": "code",
      "execution_count": null,
      "metadata": {
        "colab": {},
        "colab_type": "code",
        "id": "PRBcSCpiVDPc"
      },
      "outputs": [],
      "source": [
        "\n",
        "df_test = pd.read_csv(\"/content/test.tsv\", sep=\"\\t\")\n",
        "\n",
        "test_vectorized = vectorizer.transform(df_test['Phrase'])\n",
        "\n",
        "predictions_tuned_test_linear_svc = grid_result_linear_svc.predict(test_vectorized)\n",
        "submission = pd.DataFrame()\n",
        "submission['PhraseId'] = df_test.PhraseId\n",
        "submission['Sentiment'] = predictions_tuned_test_linear_svc\n",
        "#submission['Sentiment'] = submission.Sentiment.astype(int)\n",
        "submission.to_csv('submission_tuned_linear_svc.csv',index=False)\n",
        "\n",
        "predictions_tuned_test_logistic_regression = grid_result_logistic_regression.predict(test_vectorized)\n",
        "submission = pd.DataFrame()\n",
        "submission['PhraseId'] = df_test.PhraseId\n",
        "submission['Sentiment'] = predictions_tuned_test_logistic_regression\n",
        "#submission['Sentiment'] = submission.Sentiment.astype(int)\n",
        "submission.to_csv('submission_tuned_logistic_regression.csv',index=False)\n",
        "\n",
        "predictions_tuned_test_extra_trees = grid_result_extra_trees.predict(test_vectorized)\n",
        "submission = pd.DataFrame()\n",
        "submission['PhraseId'] = df_test.PhraseId\n",
        "submission['Sentiment'] = predictions_tuned_test_extra_trees\n",
        "#submission['Sentiment'] = submission.Sentiment.astype(int)\n",
        "submission.to_csv('submission_tuned_extra_trees.csv',index=False)\n",
        "\n",
        "predictions_tuned_test_random_forest = grid_result_random_forest.predict(test_vectorized)\n",
        "submission = pd.DataFrame()\n",
        "submission['PhraseId'] = df_test.PhraseId\n",
        "submission['Sentiment'] = predictions_tuned_test_random_forest\n",
        "#submission['Sentiment'] = submission.Sentiment.astype(int)\n",
        "submission.to_csv('submission_tuned_random_forest.csv',index=False)"
      ]
    },
    {
      "cell_type": "code",
      "execution_count": null,
      "metadata": {
        "colab": {},
        "colab_type": "code",
        "id": "YxNuTp3oX4-V"
      },
      "outputs": [],
      "source": []
    }
  ],
  "metadata": {
    "colab": {
      "collapsed_sections": [],
      "name": "Diff ML models for Movie dataset.ipynb",
      "provenance": [],
      "version": "0.3.2"
    },
    "kernelspec": {
      "display_name": "Python 3.8.2 64-bit",
      "language": "python",
      "name": "python3"
    },
    "language_info": {
      "codemirror_mode": {
        "name": "ipython",
        "version": 3
      },
      "file_extension": ".py",
      "mimetype": "text/x-python",
      "name": "python",
      "nbconvert_exporter": "python",
      "pygments_lexer": "ipython3",
      "version": "3.8.2"
    },
    "vscode": {
      "interpreter": {
        "hash": "d26be303a706998730082a5661acac48155fae02d0e45d76c9a304ff5ce39eee"
      }
    }
  },
  "nbformat": 4,
  "nbformat_minor": 0
}
